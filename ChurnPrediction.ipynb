{
 "cells": [
  {
   "attachments": {
    "COUR_IPO.png": {
     "image/png": "[encoded data removed]"
    }
   },
   "cell_type": "markdown",
   "metadata": {},
   "source": [
    "![COUR_IPO.png](attachment:COUR_IPO.png)"
   ]
  },
  {
   "cell_type": "markdown",
   "metadata": {},
   "source": [
    "# Welcome to the Data Science Coding Challange!\n",
    "\n",
    "Test your skills in a real-world coding challenge. Coding Challenges provide CS & DS Coding Competitions with Prizes and achievement badges!\n",
    "\n",
    "CS & DS learners want to be challenged as a way to evaluate if they’re job ready. So, why not create fun challenges and give winners something truly valuable such as complimentary access to select Data Science courses, or the ability to receive an achievement badge on their Coursera Skills Profile - highlighting their performance to recruiters."
   ]
  },
  {
   "cell_type": "markdown",
   "metadata": {},
   "source": [
    "## Introduction\n",
    "\n",
    "In this challenge, you'll get the opportunity to tackle one of the most industry-relevant maching learning problems with a unique dataset that will put your modeling skills to the test. Subscription services are leveraged by companies across many industries, from fitness to video streaming to retail. One of the primary objectives of companies with subscription services is to decrease churn and ensure that users are retained as subscribers. In order to do this efficiently and systematically, many companies employ machine learning to predict which users are at the highest risk of churn, so that proper interventions can be effectively deployed to the right audience.\n",
    "\n",
    "In this challenge, we will be tackling the churn prediction problem on a very unique and interesting group of subscribers on a video streaming service! \n",
    "\n",
    "Imagine that you are a new data scientist at this video streaming company and you are tasked with building a model that can predict which existing subscribers will continue their subscriptions for another month. We have provided a dataset that is a sample of subscriptions that were initiated in 2021, all snapshotted at a particular date before the subscription was cancelled. Subscription cancellation can happen for a multitude of reasons, including:\n",
    "* the customer completes all content they were interested in, and no longer need the subscription\n",
    "* the customer finds themselves to be too busy and cancels their subscription until a later time\n",
    "* the customer determines that the streaming service is not the best fit for them, so they cancel and look for something better suited\n",
    "\n",
    "Regardless the reason, this video streaming company has a vested interest in understanding the likelihood of each individual customer to churn in their subscription so that resources can be allocated appropriately to support customers. In this challenge, you will use your machine learning toolkit to do just that!"
   ]
  },
  {
   "cell_type": "markdown",
   "metadata": {},
   "source": [
    "## Understanding the Datasets"
   ]
  },
  {
   "cell_type": "markdown",
   "metadata": {},
   "source": [
    "### Train vs. Test\n",
    "In this competition, you’ll gain access to two datasets that are samples of past subscriptions of a video streaming platform that contain information about the customer, the customers streaming preferences, and their activity in the subscription thus far. One dataset is titled `train.csv` and the other is titled `test.csv`.\n",
    "\n",
    "`train.csv` contains 70% of the overall sample (243,787 subscriptions to be exact) and importantly, will reveal whether or not the subscription was continued into the next month (the “ground truth”).\n",
    "\n",
    "The `test.csv` dataset contains the exact same information about the remaining segment of the overall sample (104,480 subscriptions to be exact), but does not disclose the “ground truth” for each subscription. It’s your job to predict this outcome!\n",
    "\n",
    "Using the patterns you find in the `train.csv` data, predict whether the subscriptions in `test.csv` will be continued for another month, or not."
   ]
  },
  {
   "cell_type": "markdown",
   "metadata": {},
   "source": [
    "### Dataset descriptions\n",
    "Both `train.csv` and `test.csv` contain one row for each unique subscription. For each subscription, a single observation (`CustomerID`) is included during which the subscription was active. \n",
    "\n",
    "In addition to this identifier column, the `train.csv` dataset also contains the target label for the task, a binary column `Churn`.\n",
    "\n",
    "Besides that column, both datasets have an identical set of features that can be used to train your model to make predictions. Below you can see descriptions of each feature. Familiarize yourself with them so that you can harness them most effectively for this machine learning task!"
   ]
  },
  {
   "cell_type": "code",
   "execution_count": 1,
   "metadata": {},
   "outputs": [
    {
     "data": {
      "text/html": [
       "<div>\n",
       "<style scoped>\n",
       "    .dataframe tbody tr th:only-of-type {\n",
       "        vertical-align: middle;\n",
       "    }\n",
       "\n",
       "    .dataframe tbody tr th {\n",
       "        vertical-align: top;\n",
       "    }\n",
       "\n",
       "    .dataframe thead th {\n",
       "        text-align: right;\n",
       "    }\n",
       "</style>\n",
       "<table border=\"1\" class=\"dataframe\">\n",
       "  <thead>\n",
       "    <tr style=\"text-align: right;\">\n",
       "      <th></th>\n",
       "      <th>Column_name</th>\n",
       "      <th>Column_type</th>\n",
       "      <th>Data_type</th>\n",
       "      <th>Description</th>\n",
       "    </tr>\n",
       "  </thead>\n",
       "  <tbody>\n",
       "    <tr>\n",
       "      <th>0</th>\n",
       "      <td>AccountAge</td>\n",
       "      <td>Feature</td>\n",
       "      <td>integer</td>\n",
       "      <td>The age of the user's account in months.</td>\n",
       "    </tr>\n",
       "    <tr>\n",
       "      <th>1</th>\n",
       "      <td>MonthlyCharges</td>\n",
       "      <td>Feature</td>\n",
       "      <td>float</td>\n",
       "      <td>The amount charged to the user on a monthly basis.</td>\n",
       "    </tr>\n",
       "    <tr>\n",
       "      <th>2</th>\n",
       "      <td>TotalCharges</td>\n",
       "      <td>Feature</td>\n",
       "      <td>float</td>\n",
       "      <td>The total charges incurred by the user over the account's lifetime.</td>\n",
       "    </tr>\n",
       "    <tr>\n",
       "      <th>3</th>\n",
       "      <td>SubscriptionType</td>\n",
       "      <td>Feature</td>\n",
       "      <td>object</td>\n",
       "      <td>The type of subscription chosen by the user (Basic, Standard, or Premium).</td>\n",
       "    </tr>\n",
       "    <tr>\n",
       "      <th>4</th>\n",
       "      <td>PaymentMethod</td>\n",
       "      <td>Feature</td>\n",
       "      <td>string</td>\n",
       "      <td>The method of payment used by the user.</td>\n",
       "    </tr>\n",
       "    <tr>\n",
       "      <th>5</th>\n",
       "      <td>PaperlessBilling</td>\n",
       "      <td>Feature</td>\n",
       "      <td>string</td>\n",
       "      <td>Indicates whether the user has opted for paperless billing (Yes or No).</td>\n",
       "    </tr>\n",
       "    <tr>\n",
       "      <th>6</th>\n",
       "      <td>ContentType</td>\n",
       "      <td>Feature</td>\n",
       "      <td>string</td>\n",
       "      <td>The type of content preferred by the user (Movies, TV Shows, or Both).</td>\n",
       "    </tr>\n",
       "    <tr>\n",
       "      <th>7</th>\n",
       "      <td>MultiDeviceAccess</td>\n",
       "      <td>Feature</td>\n",
       "      <td>string</td>\n",
       "      <td>Indicates whether the user has access to the service on multiple devices (Yes or No).</td>\n",
       "    </tr>\n",
       "    <tr>\n",
       "      <th>8</th>\n",
       "      <td>DeviceRegistered</td>\n",
       "      <td>Feature</td>\n",
       "      <td>string</td>\n",
       "      <td>The type of device registered by the user (TV, Mobile, Tablet, or Computer).</td>\n",
       "    </tr>\n",
       "    <tr>\n",
       "      <th>9</th>\n",
       "      <td>ViewingHoursPerWeek</td>\n",
       "      <td>Feature</td>\n",
       "      <td>float</td>\n",
       "      <td>The number of hours the user spends watching content per week.</td>\n",
       "    </tr>\n",
       "    <tr>\n",
       "      <th>10</th>\n",
       "      <td>AverageViewingDuration</td>\n",
       "      <td>Feature</td>\n",
       "      <td>float</td>\n",
       "      <td>The average duration of each viewing session in minutes.</td>\n",
       "    </tr>\n",
       "    <tr>\n",
       "      <th>11</th>\n",
       "      <td>ContentDownloadsPerMonth</td>\n",
       "      <td>Feature</td>\n",
       "      <td>integer</td>\n",
       "      <td>The number of content downloads by the user per month.</td>\n",
       "    </tr>\n",
       "    <tr>\n",
       "      <th>12</th>\n",
       "      <td>GenrePreference</td>\n",
       "      <td>Feature</td>\n",
       "      <td>string</td>\n",
       "      <td>The preferred genre of content chosen by the user.</td>\n",
       "    </tr>\n",
       "    <tr>\n",
       "      <th>13</th>\n",
       "      <td>UserRating</td>\n",
       "      <td>Feature</td>\n",
       "      <td>float</td>\n",
       "      <td>The user's rating for the service on a scale of 1 to 5.</td>\n",
       "    </tr>\n",
       "    <tr>\n",
       "      <th>14</th>\n",
       "      <td>SupportTicketsPerMonth</td>\n",
       "      <td>Feature</td>\n",
       "      <td>integer</td>\n",
       "      <td>The number of support tickets raised by the user per month.</td>\n",
       "    </tr>\n",
       "    <tr>\n",
       "      <th>15</th>\n",
       "      <td>Gender</td>\n",
       "      <td>Feature</td>\n",
       "      <td>string</td>\n",
       "      <td>The gender of the user (Male or Female).</td>\n",
       "    </tr>\n",
       "    <tr>\n",
       "      <th>16</th>\n",
       "      <td>WatchlistSize</td>\n",
       "      <td>Feature</td>\n",
       "      <td>float</td>\n",
       "      <td>The number of items in the user's watchlist.</td>\n",
       "    </tr>\n",
       "    <tr>\n",
       "      <th>17</th>\n",
       "      <td>ParentalControl</td>\n",
       "      <td>Feature</td>\n",
       "      <td>string</td>\n",
       "      <td>Indicates whether parental control is enabled for the user (Yes or No).</td>\n",
       "    </tr>\n",
       "    <tr>\n",
       "      <th>18</th>\n",
       "      <td>SubtitlesEnabled</td>\n",
       "      <td>Feature</td>\n",
       "      <td>string</td>\n",
       "      <td>Indicates whether subtitles are enabled for the user (Yes or No).</td>\n",
       "    </tr>\n",
       "    <tr>\n",
       "      <th>19</th>\n",
       "      <td>CustomerID</td>\n",
       "      <td>Identifier</td>\n",
       "      <td>string</td>\n",
       "      <td>A unique identifier for each customer.</td>\n",
       "    </tr>\n",
       "    <tr>\n",
       "      <th>20</th>\n",
       "      <td>Churn</td>\n",
       "      <td>Target</td>\n",
       "      <td>integer</td>\n",
       "      <td>The target variable indicating whether a user has churned or not (1 for churned, 0 for not churned).</td>\n",
       "    </tr>\n",
       "  </tbody>\n",
       "</table>\n",
       "</div>"
      ],
      "text/plain": [
       "                 Column_name Column_type Data_type  \\\n",
       "0                 AccountAge     Feature   integer   \n",
       "1             MonthlyCharges     Feature     float   \n",
       "2               TotalCharges     Feature     float   \n",
       "3           SubscriptionType     Feature    object   \n",
       "4              PaymentMethod     Feature    string   \n",
       "5           PaperlessBilling     Feature    string   \n",
       "6                ContentType     Feature    string   \n",
       "7          MultiDeviceAccess     Feature    string   \n",
       "8           DeviceRegistered     Feature    string   \n",
       "9        ViewingHoursPerWeek     Feature     float   \n",
       "10    AverageViewingDuration     Feature     float   \n",
       "11  ContentDownloadsPerMonth     Feature   integer   \n",
       "12           GenrePreference     Feature    string   \n",
       "13                UserRating     Feature     float   \n",
       "14    SupportTicketsPerMonth     Feature   integer   \n",
       "15                    Gender     Feature    string   \n",
       "16             WatchlistSize     Feature     float   \n",
       "17           ParentalControl     Feature    string   \n",
       "18          SubtitlesEnabled     Feature    string   \n",
       "19                CustomerID  Identifier    string   \n",
       "20                     Churn      Target   integer   \n",
       "\n",
       "                                                                                             Description  \n",
       "0                                                               The age of the user's account in months.  \n",
       "1                                                     The amount charged to the user on a monthly basis.  \n",
       "2                                    The total charges incurred by the user over the account's lifetime.  \n",
       "3                             The type of subscription chosen by the user (Basic, Standard, or Premium).  \n",
       "4                                                                The method of payment used by the user.  \n",
       "5                                Indicates whether the user has opted for paperless billing (Yes or No).  \n",
       "6                                 The type of content preferred by the user (Movies, TV Shows, or Both).  \n",
       "7                  Indicates whether the user has access to the service on multiple devices (Yes or No).  \n",
       "8                           The type of device registered by the user (TV, Mobile, Tablet, or Computer).  \n",
       "9                                         The number of hours the user spends watching content per week.  \n",
       "10                                              The average duration of each viewing session in minutes.  \n",
       "11                                                The number of content downloads by the user per month.  \n",
       "12                                                    The preferred genre of content chosen by the user.  \n",
       "13                                               The user's rating for the service on a scale of 1 to 5.  \n",
       "14                                           The number of support tickets raised by the user per month.  \n",
       "15                                                              The gender of the user (Male or Female).  \n",
       "16                                                          The number of items in the user's watchlist.  \n",
       "17                               Indicates whether parental control is enabled for the user (Yes or No).  \n",
       "18                                     Indicates whether subtitles are enabled for the user (Yes or No).  \n",
       "19                                                                A unique identifier for each customer.  \n",
       "20  The target variable indicating whether a user has churned or not (1 for churned, 0 for not churned).  "
      ]
     },
     "execution_count": 1,
     "metadata": {},
     "output_type": "execute_result"
    }
   ],
   "source": [
    "import pandas as pd\n",
    "data_descriptions = pd.read_csv('data_descriptions.csv')\n",
    "pd.set_option('display.max_colwidth', None)\n",
    "data_descriptions"
   ]
  },
  {
   "cell_type": "markdown",
   "metadata": {},
   "source": [
    "## How to Submit your Predictions to Coursera\n",
    "Submission Format:\n",
    "\n",
    "In this notebook you should follow the steps below to explore the data, train a model using the data in `train.csv`, and then score your model using the data in `test.csv`. Your final submission should be a dataframe (call it `prediction_df` with two columns and exactly 104,480 rows (plus a header row). The first column should be `CustomerID` so that we know which prediction belongs to which observation. The second column should be called `predicted_probability` and should be a numeric column representing the __likellihood that the subscription will churn__.\n",
    "\n",
    "Your submission will show an error if you have extra columns (beyond `CustomerID` and `predicted_probability`) or extra rows. The order of the rows does not matter.\n",
    "\n",
    "The naming convention of the dataframe and columns are critical for our autograding, so please make sure to use the exact naming conventions of `prediction_df` with column names `CustomerID` and `predicted_probability`!\n",
    "\n",
    "To determine your final score, we will compare your `predicted_probability` predictions to the source of truth labels for the observations in `test.csv` and calculate the [ROC AUC](https://scikit-learn.org/stable/modules/generated/sklearn.metrics.roc_auc_score.html). We choose this metric because we not only want to be able to predict which subscriptions will be retained, but also want a well-calibrated likelihood score that can be used to target interventions and support most accurately."
   ]
  },
  {
   "cell_type": "markdown",
   "metadata": {},
   "source": [
    "## Import Python Modules\n",
    "\n",
    "First, import the primary modules that will be used in this project. Remember as this is an open-ended project please feel free to make use of any of your favorite libraries that you feel may be useful for this challenge. For example some of the following popular packages may be useful:\n",
    "\n",
    "- pandas\n",
    "- numpy\n",
    "- Scipy\n",
    "- Scikit-learn\n",
    "- keras\n",
    "- maplotlib\n",
    "- seaborn\n",
    "- etc, etc"
   ]
  },
  {
   "cell_type": "code",
   "execution_count": 2,
   "metadata": {},
   "outputs": [],
   "source": [
    "# Import required packages\n",
    "\n",
    "# Data packages\n",
    "import pandas as pd\n",
    "import numpy as np\n",
    "\n",
    "# Machine Learning / Classification packages\n",
    "from sklearn.metrics import roc_auc_score\n",
    "from sklearn.model_selection import train_test_split\n",
    "from sklearn.dummy import DummyClassifier\n",
    "\n",
    "# Visualization Packages\n",
    "from matplotlib import pyplot as plt\n",
    "import seaborn as sns\n",
    "%matplotlib inline"
   ]
  },
  {
   "cell_type": "code",
   "execution_count": 3,
   "metadata": {},
   "outputs": [
    {
     "name": "stdout",
     "output_type": "stream",
     "text": [
      "Requirement already satisfied: xgboost in /opt/conda/lib/python3.7/site-packages (1.6.2)\n",
      "Requirement already satisfied: numpy in /opt/conda/lib/python3.7/site-packages (from xgboost) (1.18.4)\n",
      "Requirement already satisfied: scipy in /opt/conda/lib/python3.7/site-packages (from xgboost) (1.4.1)\n",
      "\u001b[33mWARNING: You are using pip version 21.3.1; however, version 24.0 is available.\n",
      "You should consider upgrading via the '/opt/conda/bin/python -m pip install --upgrade pip' command.\u001b[0m\n",
      "Note: you may need to restart the kernel to use updated packages.\n"
     ]
    }
   ],
   "source": [
    "pip install xgboost"
   ]
  },
  {
   "cell_type": "code",
   "execution_count": 4,
   "metadata": {},
   "outputs": [],
   "source": [
    "# Add few more, will try XGBoost first\n",
    "from sklearn.pipeline import Pipeline\n",
    "from sklearn.compose import ColumnTransformer\n",
    "from sklearn.preprocessing import StandardScaler, OneHotEncoder, OrdinalEncoder\n",
    "from xgboost import XGBClassifier \n"
   ]
  },
  {
   "cell_type": "markdown",
   "metadata": {},
   "source": [
    "## Load the Data\n",
    "\n",
    "Let's start by loading the dataset `train.csv` into a dataframe `train_df`, and `test.csv` into a dataframe `test_df` and display the shape of the dataframes."
   ]
  },
  {
   "cell_type": "code",
   "execution_count": 5,
   "metadata": {},
   "outputs": [
    {
     "name": "stdout",
     "output_type": "stream",
     "text": [
      "train_df Shape: (243787, 21)\n"
     ]
    },
    {
     "data": {
      "text/html": [
       "<div>\n",
       "<style scoped>\n",
       "    .dataframe tbody tr th:only-of-type {\n",
       "        vertical-align: middle;\n",
       "    }\n",
       "\n",
       "    .dataframe tbody tr th {\n",
       "        vertical-align: top;\n",
       "    }\n",
       "\n",
       "    .dataframe thead th {\n",
       "        text-align: right;\n",
       "    }\n",
       "</style>\n",
       "<table border=\"1\" class=\"dataframe\">\n",
       "  <thead>\n",
       "    <tr style=\"text-align: right;\">\n",
       "      <th></th>\n",
       "      <th>AccountAge</th>\n",
       "      <th>MonthlyCharges</th>\n",
       "      <th>TotalCharges</th>\n",
       "      <th>SubscriptionType</th>\n",
       "      <th>PaymentMethod</th>\n",
       "      <th>PaperlessBilling</th>\n",
       "      <th>ContentType</th>\n",
       "      <th>MultiDeviceAccess</th>\n",
       "      <th>DeviceRegistered</th>\n",
       "      <th>ViewingHoursPerWeek</th>\n",
       "      <th>...</th>\n",
       "      <th>ContentDownloadsPerMonth</th>\n",
       "      <th>GenrePreference</th>\n",
       "      <th>UserRating</th>\n",
       "      <th>SupportTicketsPerMonth</th>\n",
       "      <th>Gender</th>\n",
       "      <th>WatchlistSize</th>\n",
       "      <th>ParentalControl</th>\n",
       "      <th>SubtitlesEnabled</th>\n",
       "      <th>CustomerID</th>\n",
       "      <th>Churn</th>\n",
       "    </tr>\n",
       "  </thead>\n",
       "  <tbody>\n",
       "    <tr>\n",
       "      <th>0</th>\n",
       "      <td>20</td>\n",
       "      <td>11.055215</td>\n",
       "      <td>221.104302</td>\n",
       "      <td>Premium</td>\n",
       "      <td>Mailed check</td>\n",
       "      <td>No</td>\n",
       "      <td>Both</td>\n",
       "      <td>No</td>\n",
       "      <td>Mobile</td>\n",
       "      <td>36.758104</td>\n",
       "      <td>...</td>\n",
       "      <td>10</td>\n",
       "      <td>Sci-Fi</td>\n",
       "      <td>2.176498</td>\n",
       "      <td>4</td>\n",
       "      <td>Male</td>\n",
       "      <td>3</td>\n",
       "      <td>No</td>\n",
       "      <td>No</td>\n",
       "      <td>CB6SXPNVZA</td>\n",
       "      <td>0</td>\n",
       "    </tr>\n",
       "    <tr>\n",
       "      <th>1</th>\n",
       "      <td>57</td>\n",
       "      <td>5.175208</td>\n",
       "      <td>294.986882</td>\n",
       "      <td>Basic</td>\n",
       "      <td>Credit card</td>\n",
       "      <td>Yes</td>\n",
       "      <td>Movies</td>\n",
       "      <td>No</td>\n",
       "      <td>Tablet</td>\n",
       "      <td>32.450568</td>\n",
       "      <td>...</td>\n",
       "      <td>18</td>\n",
       "      <td>Action</td>\n",
       "      <td>3.478632</td>\n",
       "      <td>8</td>\n",
       "      <td>Male</td>\n",
       "      <td>23</td>\n",
       "      <td>No</td>\n",
       "      <td>Yes</td>\n",
       "      <td>S7R2G87O09</td>\n",
       "      <td>0</td>\n",
       "    </tr>\n",
       "    <tr>\n",
       "      <th>2</th>\n",
       "      <td>73</td>\n",
       "      <td>12.106657</td>\n",
       "      <td>883.785952</td>\n",
       "      <td>Basic</td>\n",
       "      <td>Mailed check</td>\n",
       "      <td>Yes</td>\n",
       "      <td>Movies</td>\n",
       "      <td>No</td>\n",
       "      <td>Computer</td>\n",
       "      <td>7.395160</td>\n",
       "      <td>...</td>\n",
       "      <td>23</td>\n",
       "      <td>Fantasy</td>\n",
       "      <td>4.238824</td>\n",
       "      <td>6</td>\n",
       "      <td>Male</td>\n",
       "      <td>1</td>\n",
       "      <td>Yes</td>\n",
       "      <td>Yes</td>\n",
       "      <td>EASDC20BDT</td>\n",
       "      <td>0</td>\n",
       "    </tr>\n",
       "    <tr>\n",
       "      <th>3</th>\n",
       "      <td>32</td>\n",
       "      <td>7.263743</td>\n",
       "      <td>232.439774</td>\n",
       "      <td>Basic</td>\n",
       "      <td>Electronic check</td>\n",
       "      <td>No</td>\n",
       "      <td>TV Shows</td>\n",
       "      <td>No</td>\n",
       "      <td>Tablet</td>\n",
       "      <td>27.960389</td>\n",
       "      <td>...</td>\n",
       "      <td>30</td>\n",
       "      <td>Drama</td>\n",
       "      <td>4.276013</td>\n",
       "      <td>2</td>\n",
       "      <td>Male</td>\n",
       "      <td>24</td>\n",
       "      <td>Yes</td>\n",
       "      <td>Yes</td>\n",
       "      <td>NPF69NT69N</td>\n",
       "      <td>0</td>\n",
       "    </tr>\n",
       "    <tr>\n",
       "      <th>4</th>\n",
       "      <td>57</td>\n",
       "      <td>16.953078</td>\n",
       "      <td>966.325422</td>\n",
       "      <td>Premium</td>\n",
       "      <td>Electronic check</td>\n",
       "      <td>Yes</td>\n",
       "      <td>TV Shows</td>\n",
       "      <td>No</td>\n",
       "      <td>TV</td>\n",
       "      <td>20.083397</td>\n",
       "      <td>...</td>\n",
       "      <td>20</td>\n",
       "      <td>Comedy</td>\n",
       "      <td>3.616170</td>\n",
       "      <td>4</td>\n",
       "      <td>Female</td>\n",
       "      <td>0</td>\n",
       "      <td>No</td>\n",
       "      <td>No</td>\n",
       "      <td>4LGYPK7VOL</td>\n",
       "      <td>0</td>\n",
       "    </tr>\n",
       "  </tbody>\n",
       "</table>\n",
       "<p>5 rows × 21 columns</p>\n",
       "</div>"
      ],
      "text/plain": [
       "   AccountAge  MonthlyCharges  TotalCharges SubscriptionType  \\\n",
       "0          20       11.055215    221.104302          Premium   \n",
       "1          57        5.175208    294.986882            Basic   \n",
       "2          73       12.106657    883.785952            Basic   \n",
       "3          32        7.263743    232.439774            Basic   \n",
       "4          57       16.953078    966.325422          Premium   \n",
       "\n",
       "      PaymentMethod PaperlessBilling ContentType MultiDeviceAccess  \\\n",
       "0      Mailed check               No        Both                No   \n",
       "1       Credit card              Yes      Movies                No   \n",
       "2      Mailed check              Yes      Movies                No   \n",
       "3  Electronic check               No    TV Shows                No   \n",
       "4  Electronic check              Yes    TV Shows                No   \n",
       "\n",
       "  DeviceRegistered  ViewingHoursPerWeek  ...  ContentDownloadsPerMonth  \\\n",
       "0           Mobile            36.758104  ...                        10   \n",
       "1           Tablet            32.450568  ...                        18   \n",
       "2         Computer             7.395160  ...                        23   \n",
       "3           Tablet            27.960389  ...                        30   \n",
       "4               TV            20.083397  ...                        20   \n",
       "\n",
       "   GenrePreference UserRating  SupportTicketsPerMonth  Gender WatchlistSize  \\\n",
       "0           Sci-Fi   2.176498                       4    Male             3   \n",
       "1           Action   3.478632                       8    Male            23   \n",
       "2          Fantasy   4.238824                       6    Male             1   \n",
       "3            Drama   4.276013                       2    Male            24   \n",
       "4           Comedy   3.616170                       4  Female             0   \n",
       "\n",
       "   ParentalControl SubtitlesEnabled  CustomerID Churn  \n",
       "0               No               No  CB6SXPNVZA     0  \n",
       "1               No              Yes  S7R2G87O09     0  \n",
       "2              Yes              Yes  EASDC20BDT     0  \n",
       "3              Yes              Yes  NPF69NT69N     0  \n",
       "4               No               No  4LGYPK7VOL     0  \n",
       "\n",
       "[5 rows x 21 columns]"
      ]
     },
     "execution_count": 5,
     "metadata": {},
     "output_type": "execute_result"
    }
   ],
   "source": [
    "train_df = pd.read_csv(\"train.csv\")\n",
    "print('train_df Shape:', train_df.shape)\n",
    "train_df.head()"
   ]
  },
  {
   "cell_type": "code",
   "execution_count": 6,
   "metadata": {},
   "outputs": [
    {
     "name": "stdout",
     "output_type": "stream",
     "text": [
      "test_df Shape: (104480, 20)\n"
     ]
    },
    {
     "data": {
      "text/html": [
       "<div>\n",
       "<style scoped>\n",
       "    .dataframe tbody tr th:only-of-type {\n",
       "        vertical-align: middle;\n",
       "    }\n",
       "\n",
       "    .dataframe tbody tr th {\n",
       "        vertical-align: top;\n",
       "    }\n",
       "\n",
       "    .dataframe thead th {\n",
       "        text-align: right;\n",
       "    }\n",
       "</style>\n",
       "<table border=\"1\" class=\"dataframe\">\n",
       "  <thead>\n",
       "    <tr style=\"text-align: right;\">\n",
       "      <th></th>\n",
       "      <th>AccountAge</th>\n",
       "      <th>MonthlyCharges</th>\n",
       "      <th>TotalCharges</th>\n",
       "      <th>SubscriptionType</th>\n",
       "      <th>PaymentMethod</th>\n",
       "      <th>PaperlessBilling</th>\n",
       "      <th>ContentType</th>\n",
       "      <th>MultiDeviceAccess</th>\n",
       "      <th>DeviceRegistered</th>\n",
       "      <th>ViewingHoursPerWeek</th>\n",
       "      <th>AverageViewingDuration</th>\n",
       "      <th>ContentDownloadsPerMonth</th>\n",
       "      <th>GenrePreference</th>\n",
       "      <th>UserRating</th>\n",
       "      <th>SupportTicketsPerMonth</th>\n",
       "      <th>Gender</th>\n",
       "      <th>WatchlistSize</th>\n",
       "      <th>ParentalControl</th>\n",
       "      <th>SubtitlesEnabled</th>\n",
       "      <th>CustomerID</th>\n",
       "    </tr>\n",
       "  </thead>\n",
       "  <tbody>\n",
       "    <tr>\n",
       "      <th>0</th>\n",
       "      <td>38</td>\n",
       "      <td>17.869374</td>\n",
       "      <td>679.036195</td>\n",
       "      <td>Premium</td>\n",
       "      <td>Mailed check</td>\n",
       "      <td>No</td>\n",
       "      <td>TV Shows</td>\n",
       "      <td>No</td>\n",
       "      <td>TV</td>\n",
       "      <td>29.126308</td>\n",
       "      <td>122.274031</td>\n",
       "      <td>42</td>\n",
       "      <td>Comedy</td>\n",
       "      <td>3.522724</td>\n",
       "      <td>2</td>\n",
       "      <td>Male</td>\n",
       "      <td>23</td>\n",
       "      <td>No</td>\n",
       "      <td>No</td>\n",
       "      <td>O1W6BHP6RM</td>\n",
       "    </tr>\n",
       "    <tr>\n",
       "      <th>1</th>\n",
       "      <td>77</td>\n",
       "      <td>9.912854</td>\n",
       "      <td>763.289768</td>\n",
       "      <td>Basic</td>\n",
       "      <td>Electronic check</td>\n",
       "      <td>Yes</td>\n",
       "      <td>TV Shows</td>\n",
       "      <td>No</td>\n",
       "      <td>TV</td>\n",
       "      <td>36.873729</td>\n",
       "      <td>57.093319</td>\n",
       "      <td>43</td>\n",
       "      <td>Action</td>\n",
       "      <td>2.021545</td>\n",
       "      <td>2</td>\n",
       "      <td>Female</td>\n",
       "      <td>22</td>\n",
       "      <td>Yes</td>\n",
       "      <td>No</td>\n",
       "      <td>LFR4X92X8H</td>\n",
       "    </tr>\n",
       "    <tr>\n",
       "      <th>2</th>\n",
       "      <td>5</td>\n",
       "      <td>15.019011</td>\n",
       "      <td>75.095057</td>\n",
       "      <td>Standard</td>\n",
       "      <td>Bank transfer</td>\n",
       "      <td>No</td>\n",
       "      <td>TV Shows</td>\n",
       "      <td>Yes</td>\n",
       "      <td>Computer</td>\n",
       "      <td>7.601729</td>\n",
       "      <td>140.414001</td>\n",
       "      <td>14</td>\n",
       "      <td>Sci-Fi</td>\n",
       "      <td>4.806126</td>\n",
       "      <td>2</td>\n",
       "      <td>Female</td>\n",
       "      <td>22</td>\n",
       "      <td>No</td>\n",
       "      <td>Yes</td>\n",
       "      <td>QM5GBIYODA</td>\n",
       "    </tr>\n",
       "    <tr>\n",
       "      <th>3</th>\n",
       "      <td>88</td>\n",
       "      <td>15.357406</td>\n",
       "      <td>1351.451692</td>\n",
       "      <td>Standard</td>\n",
       "      <td>Electronic check</td>\n",
       "      <td>No</td>\n",
       "      <td>Both</td>\n",
       "      <td>Yes</td>\n",
       "      <td>Tablet</td>\n",
       "      <td>35.586430</td>\n",
       "      <td>177.002419</td>\n",
       "      <td>14</td>\n",
       "      <td>Comedy</td>\n",
       "      <td>4.943900</td>\n",
       "      <td>0</td>\n",
       "      <td>Female</td>\n",
       "      <td>23</td>\n",
       "      <td>Yes</td>\n",
       "      <td>Yes</td>\n",
       "      <td>D9RXTK2K9F</td>\n",
       "    </tr>\n",
       "    <tr>\n",
       "      <th>4</th>\n",
       "      <td>91</td>\n",
       "      <td>12.406033</td>\n",
       "      <td>1128.949004</td>\n",
       "      <td>Standard</td>\n",
       "      <td>Credit card</td>\n",
       "      <td>Yes</td>\n",
       "      <td>TV Shows</td>\n",
       "      <td>Yes</td>\n",
       "      <td>Tablet</td>\n",
       "      <td>23.503651</td>\n",
       "      <td>70.308376</td>\n",
       "      <td>6</td>\n",
       "      <td>Drama</td>\n",
       "      <td>2.846880</td>\n",
       "      <td>6</td>\n",
       "      <td>Female</td>\n",
       "      <td>0</td>\n",
       "      <td>No</td>\n",
       "      <td>No</td>\n",
       "      <td>ENTCCHR1LR</td>\n",
       "    </tr>\n",
       "  </tbody>\n",
       "</table>\n",
       "</div>"
      ],
      "text/plain": [
       "   AccountAge  MonthlyCharges  TotalCharges SubscriptionType  \\\n",
       "0          38       17.869374    679.036195          Premium   \n",
       "1          77        9.912854    763.289768            Basic   \n",
       "2           5       15.019011     75.095057         Standard   \n",
       "3          88       15.357406   1351.451692         Standard   \n",
       "4          91       12.406033   1128.949004         Standard   \n",
       "\n",
       "      PaymentMethod PaperlessBilling ContentType MultiDeviceAccess  \\\n",
       "0      Mailed check               No    TV Shows                No   \n",
       "1  Electronic check              Yes    TV Shows                No   \n",
       "2     Bank transfer               No    TV Shows               Yes   \n",
       "3  Electronic check               No        Both               Yes   \n",
       "4       Credit card              Yes    TV Shows               Yes   \n",
       "\n",
       "  DeviceRegistered  ViewingHoursPerWeek  AverageViewingDuration  \\\n",
       "0               TV            29.126308              122.274031   \n",
       "1               TV            36.873729               57.093319   \n",
       "2         Computer             7.601729              140.414001   \n",
       "3           Tablet            35.586430              177.002419   \n",
       "4           Tablet            23.503651               70.308376   \n",
       "\n",
       "   ContentDownloadsPerMonth GenrePreference  UserRating  \\\n",
       "0                        42          Comedy    3.522724   \n",
       "1                        43          Action    2.021545   \n",
       "2                        14          Sci-Fi    4.806126   \n",
       "3                        14          Comedy    4.943900   \n",
       "4                         6           Drama    2.846880   \n",
       "\n",
       "   SupportTicketsPerMonth  Gender  WatchlistSize ParentalControl  \\\n",
       "0                       2    Male             23              No   \n",
       "1                       2  Female             22             Yes   \n",
       "2                       2  Female             22              No   \n",
       "3                       0  Female             23             Yes   \n",
       "4                       6  Female              0              No   \n",
       "\n",
       "  SubtitlesEnabled  CustomerID  \n",
       "0               No  O1W6BHP6RM  \n",
       "1               No  LFR4X92X8H  \n",
       "2              Yes  QM5GBIYODA  \n",
       "3              Yes  D9RXTK2K9F  \n",
       "4               No  ENTCCHR1LR  "
      ]
     },
     "execution_count": 6,
     "metadata": {},
     "output_type": "execute_result"
    }
   ],
   "source": [
    "test_df = pd.read_csv(\"test.csv\")\n",
    "print('test_df Shape:', test_df.shape)\n",
    "test_df.head()"
   ]
  },
  {
   "cell_type": "markdown",
   "metadata": {},
   "source": [
    "## Explore, Clean, Validate, and Visualize the Data (optional)\n",
    "\n",
    "Feel free to explore, clean, validate, and visualize the data however you see fit for this competition to help determine or optimize your predictive model. Please note - the final autograding will only be on the accuracy of the `prediction_df` predictions."
   ]
  },
  {
   "cell_type": "markdown",
   "metadata": {},
   "source": [
    "# Basic Data Exploration"
   ]
  },
  {
   "cell_type": "code",
   "execution_count": 7,
   "metadata": {},
   "outputs": [
    {
     "name": "stdout",
     "output_type": "stream",
     "text": [
      "Missing values in train_set:\n",
      "Churn                       0\n",
      "ViewingHoursPerWeek         0\n",
      "MonthlyCharges              0\n",
      "TotalCharges                0\n",
      "SubscriptionType            0\n",
      "PaymentMethod               0\n",
      "PaperlessBilling            0\n",
      "ContentType                 0\n",
      "MultiDeviceAccess           0\n",
      "DeviceRegistered            0\n",
      "AverageViewingDuration      0\n",
      "CustomerID                  0\n",
      "ContentDownloadsPerMonth    0\n",
      "GenrePreference             0\n",
      "UserRating                  0\n",
      "SupportTicketsPerMonth      0\n",
      "Gender                      0\n",
      "WatchlistSize               0\n",
      "ParentalControl             0\n",
      "SubtitlesEnabled            0\n",
      "AccountAge                  0\n",
      "dtype: int64\n",
      "Missing values in test_set:\n",
      "CustomerID                  0\n",
      "SubtitlesEnabled            0\n",
      "MonthlyCharges              0\n",
      "TotalCharges                0\n",
      "SubscriptionType            0\n",
      "PaymentMethod               0\n",
      "PaperlessBilling            0\n",
      "ContentType                 0\n",
      "MultiDeviceAccess           0\n",
      "DeviceRegistered            0\n",
      "ViewingHoursPerWeek         0\n",
      "AverageViewingDuration      0\n",
      "ContentDownloadsPerMonth    0\n",
      "GenrePreference             0\n",
      "UserRating                  0\n",
      "SupportTicketsPerMonth      0\n",
      "Gender                      0\n",
      "WatchlistSize               0\n",
      "ParentalControl             0\n",
      "AccountAge                  0\n",
      "dtype: int64\n"
     ]
    }
   ],
   "source": [
    "#look for missing values\n",
    "print(\"Missing values in train_set:\")\n",
    "print(train_df.isnull().sum().sort_values(ascending=False))\n",
    "\n",
    "print(\"Missing values in test_set:\")\n",
    "print(test_df.isnull().sum().sort_values(ascending=False))"
   ]
  },
  {
   "cell_type": "code",
   "execution_count": 9,
   "metadata": {},
   "outputs": [
    {
     "name": "stdout",
     "output_type": "stream",
     "text": [
      "        AccountAge  MonthlyCharges  TotalCharges SubscriptionType  \\\n",
      "0               20       11.055215    221.104302          Premium   \n",
      "1               57        5.175208    294.986882            Basic   \n",
      "2               73       12.106657    883.785952            Basic   \n",
      "3               32        7.263743    232.439774            Basic   \n",
      "4               57       16.953078    966.325422          Premium   \n",
      "...            ...             ...           ...              ...   \n",
      "243782          77        9.639902    742.272460            Basic   \n",
      "243783         117       13.049257   1526.763053          Premium   \n",
      "243784         113       14.514569   1640.146267          Premium   \n",
      "243785           7       18.140555    126.983887          Premium   \n",
      "243786          90       11.593774   1043.439704          Premium   \n",
      "\n",
      "           PaymentMethod PaperlessBilling ContentType MultiDeviceAccess  \\\n",
      "0           Mailed check               No        Both                No   \n",
      "1            Credit card              Yes      Movies                No   \n",
      "2           Mailed check              Yes      Movies                No   \n",
      "3       Electronic check               No    TV Shows                No   \n",
      "4       Electronic check              Yes    TV Shows                No   \n",
      "...                  ...              ...         ...               ...   \n",
      "243782      Mailed check               No      Movies                No   \n",
      "243783       Credit card               No    TV Shows               Yes   \n",
      "243784       Credit card              Yes    TV Shows                No   \n",
      "243785     Bank transfer              Yes    TV Shows                No   \n",
      "243786      Mailed check               No        Both                No   \n",
      "\n",
      "       DeviceRegistered  ViewingHoursPerWeek  ...  ContentDownloadsPerMonth  \\\n",
      "0                Mobile            36.758104  ...                        10   \n",
      "1                Tablet            32.450568  ...                        18   \n",
      "2              Computer             7.395160  ...                        23   \n",
      "3                Tablet            27.960389  ...                        30   \n",
      "4                    TV            20.083397  ...                        20   \n",
      "...                 ...                  ...  ...                       ...   \n",
      "243782         Computer            13.502729  ...                        47   \n",
      "243783               TV            24.963291  ...                        35   \n",
      "243784               TV            10.628728  ...                        44   \n",
      "243785               TV            30.466782  ...                        36   \n",
      "243786               TV            24.972537  ...                        11   \n",
      "\n",
      "        GenrePreference UserRating  SupportTicketsPerMonth  Gender  \\\n",
      "0                Sci-Fi   2.176498                       4    Male   \n",
      "1                Action   3.478632                       8    Male   \n",
      "2               Fantasy   4.238824                       6    Male   \n",
      "3                 Drama   4.276013                       2    Male   \n",
      "4                Comedy   3.616170                       4  Female   \n",
      "...                 ...        ...                     ...     ...   \n",
      "243782           Sci-Fi   3.697451                       1    Male   \n",
      "243783           Comedy   1.449742                       4    Male   \n",
      "243784           Action   4.012217                       6    Male   \n",
      "243785          Fantasy   2.135789                       7  Female   \n",
      "243786           Action   1.428896                       3  Female   \n",
      "\n",
      "       WatchlistSize  ParentalControl SubtitlesEnabled  CustomerID Churn  \n",
      "0                  3               No               No  CB6SXPNVZA     0  \n",
      "1                 23               No              Yes  S7R2G87O09     0  \n",
      "2                  1              Yes              Yes  EASDC20BDT     0  \n",
      "3                 24              Yes              Yes  NPF69NT69N     0  \n",
      "4                  0               No               No  4LGYPK7VOL     0  \n",
      "...              ...              ...              ...         ...   ...  \n",
      "243782             8              Yes               No  FBZ38J108Z     0  \n",
      "243783            20               No               No  W4AO1Y6NAI     0  \n",
      "243784            13              Yes              Yes  0H3SWWI7IU     0  \n",
      "243785             5               No              Yes  63SJ44RT4A     0  \n",
      "243786             1              Yes               No  A6IN701VRY     0  \n",
      "\n",
      "[243787 rows x 21 columns]\n",
      "Churn                            2\n",
      "SubtitlesEnabled                 2\n",
      "ParentalControl                  2\n",
      "PaperlessBilling                 2\n",
      "MultiDeviceAccess                2\n",
      "Gender                           2\n",
      "SubscriptionType                 3\n",
      "ContentType                      3\n",
      "PaymentMethod                    4\n",
      "DeviceRegistered                 4\n",
      "GenrePreference                  5\n",
      "SupportTicketsPerMonth          10\n",
      "WatchlistSize                   25\n",
      "ContentDownloadsPerMonth        50\n",
      "AccountAge                     119\n",
      "CustomerID                  243787\n",
      "ViewingHoursPerWeek         243787\n",
      "TotalCharges                243787\n",
      "MonthlyCharges              243787\n",
      "UserRating                  243787\n",
      "AverageViewingDuration      243787\n",
      "dtype: int64\n"
     ]
    }
   ],
   "source": [
    "# check for data types in train data set\n",
    "print(train_df)\n",
    "\n",
    "print(train_df.nunique().sort_values())"
   ]
  },
  {
   "cell_type": "code",
   "execution_count": 12,
   "metadata": {},
   "outputs": [
    {
     "data": {
      "text/plain": [
       "Text(0.5, 1.0, 'Churn Distribution')"
      ]
     },
     "execution_count": 12,
     "metadata": {},
     "output_type": "execute_result"
    },
    {
     "data": {
      "image/png": "[encoded data removed]",
      "text/plain": [
       "<Figure size 432x288 with 1 Axes>"
      ]
     },
     "metadata": {
      "needs_background": "light"
     },
     "output_type": "display_data"
    }
   ],
   "source": [
    "sns.countplot(x='Churn', data=train_df)\n",
    "plt.title('Churn Distribution')"
   ]
  },
  {
   "cell_type": "code",
   "execution_count": 16,
   "metadata": {
    "scrolled": true
   },
   "outputs": [
    {
     "data": {
      "image/png": "[encoded data removed]",
      "text/plain": [
       "<Figure size 1008x720 with 2 Axes>"
      ]
     },
     "metadata": {
      "needs_background": "light"
     },
     "output_type": "display_data"
    }
   ],
   "source": [
    "# select the numeric features  from train set \n",
    "num_feature = train_df.select_dtypes(include=['int64','float64']).columns.tolist()\n",
    "# correlation matrix numeric features only\n",
    "corr_matrix = train_df.corr()\n",
    "\n",
    "# Set up the matplotlib figure\n",
    "plt.figure(figsize=(14, 10))\n",
    "\n",
    "sns.heatmap(corr_matrix, cmap='coolwarm', annot=True, fmt=\".2f\", linewidths=0.5)\n",
    "\n",
    "plt.title(\"Correlation Heatmap of Numeric Features\", fontsize=16)\n",
    "plt.xticks(rotation=45, ha='right')\n",
    "plt.yticks(rotation=0)\n",
    "plt.tight_layout()\n",
    "plt.show()\n"
   ]
  },
  {
   "cell_type": "markdown",
   "metadata": {},
   "source": [
    "# XGBoost handles multicollinearity well. but i will monitor the features TotalCharges and AccountAge"
   ]
  },
  {
   "cell_type": "code",
   "execution_count": null,
   "metadata": {},
   "outputs": [
    {
     "data": {
      "image/png": "[encoded data removed]",
      "text/plain": [
       "<Figure size 432x288 with 1 Axes>"
      ]
     },
     "metadata": {
      "needs_background": "light"
     },
     "output_type": "display_data"
    },
    {
     "data": {
      "image/png": "[encoded data removed]",
      "text/plain": [
       "<Figure size 432x288 with 1 Axes>"
      ]
     },
     "metadata": {
      "needs_background": "light"
     },
     "output_type": "display_data"
    },
    {
     "data": {
      "image/png": "[encoded data removed]",
      "text/plain": [
       "<Figure size 432x288 with 1 Axes>"
      ]
     },
     "metadata": {
      "needs_background": "light"
     },
     "output_type": "display_data"
    },
    {
     "data": {
      "image/png": "[encoded data removed]",
      "text/plain": [
       "<Figure size 432x288 with 1 Axes>"
      ]
     },
     "metadata": {
      "needs_background": "light"
     },
     "output_type": "display_data"
    },
    {
     "data": {
      "image/png": "[encoded data removed]",
      "text/plain": [
       "<Figure size 432x288 with 1 Axes>"
      ]
     },
     "metadata": {
      "needs_background": "light"
     },
     "output_type": "display_data"
    },
    {
     "data": {
      "image/png": "[encoded data removed]",
      "text/plain": [
       "<Figure size 432x288 with 1 Axes>"
      ]
     },
     "metadata": {
      "needs_background": "light"
     },
     "output_type": "display_data"
    },
    {
     "data": {
      "image/png": "[encoded data removed]",
      "text/plain": [
       "<Figure size 432x288 with 1 Axes>"
      ]
     },
     "metadata": {
      "needs_background": "light"
     },
     "output_type": "display_data"
    },
    {
     "data": {
      "image/png": "[encoded data removed]",
      "text/plain": [
       "<Figure size 432x288 with 1 Axes>"
      ]
     },
     "metadata": {
      "needs_background": "light"
     },
     "output_type": "display_data"
    },
    {
     "data": {
      "image/png": "[encoded data removed]",
      "text/plain": [
       "<Figure size 432x288 with 1 Axes>"
      ]
     },
     "metadata": {
      "needs_background": "light"
     },
     "output_type": "display_data"
    },
    {
     "data": {
      "image/png": "[encoded data removed]",
      "text/plain": [
       "<Figure size 432x288 with 1 Axes>"
      ]
     },
     "metadata": {
      "needs_background": "light"
     },
     "output_type": "display_data"
    }
   ],
   "source": [
    "# Target vs Feature Plots(categorical)\n",
    "categorical_columns = train_df.select_dtypes(include=['object']).columns.tolist()\n",
    "\n",
    "for col in categorical_columns:\n",
    "    churn_rate = train_df.groupby(col)['Churn'].mean().sort_values(ascending=False)\n",
    "    churn_rate.plot(kind='bar')\n",
    "    plt.title(f'Churn rate by {col}')\n",
    "    plt.ylabel('Churn Rate')\n",
    "    plt.show()\n"
   ]
  },
  {
   "cell_type": "markdown",
   "metadata": {},
   "source": [
    "## Make predictions (required)\n",
    "\n",
    "Remember you should create a dataframe named `prediction_df` with exactly 104,480 entries plus a header row attempting to predict the likelihood of churn for subscriptions in `test_df`. Your submission will throw an error if you have extra columns (beyond `CustomerID` and `predicted_probaility`) or extra rows.\n",
    "\n",
    "The file should have exactly 2 columns:\n",
    "`CustomerID` (sorted in any order)\n",
    "`predicted_probability` (contains your numeric predicted probabilities between 0 and 1, e.g. from `estimator.predict_proba(X, y)[:, 1]`)\n",
    "\n",
    "The naming convention of the dataframe and columns are critical for our autograding, so please make sure to use the exact naming conventions of `prediction_df` with column names `CustomerID` and `predicted_probability`!"
   ]
  },
  {
   "cell_type": "markdown",
   "metadata": {},
   "source": [
    "### Example prediction submission:\n",
    "\n",
    "The code below is a very naive prediction method that simply predicts churn using a Dummy Classifier. This is used as just an example showing the submission format required. Please change/alter/delete this code below and create your own improved prediction methods for generating `prediction_df`."
   ]
  },
  {
   "cell_type": "markdown",
   "metadata": {},
   "source": [
    "# Preprocess "
   ]
  },
  {
   "cell_type": "code",
   "execution_count": 13,
   "metadata": {},
   "outputs": [],
   "source": [
    "class XGBooWithEarlyStopping:\n",
    "    def __init__(self, **kwargs):\n",
    "        self.model = XGBClassifier(use_label_encoder=False, **kwargs)\n",
    "\n",
    "    def fit(self, X, y, eval_set=None, **fit_params):\n",
    "        if eval_set is not None:\n",
    "            eval_set_transformed = []\n",
    "            for X_eval, y_eval in eval_set:\n",
    "                X_eval_transformed = self.preprocessor.transform(X_eval)\n",
    "                eval_set_transformed.append((X_eval_transformed, y_eval))\n",
    "\n",
    "            self.model.fit(\n",
    "                X, y,\n",
    "                eval_set=eval_set_transformed,\n",
    "                verbose=False,\n",
    "                **fit_params\n",
    "            )\n",
    "        else:\n",
    "            self.model.fit(X, y, **fit_params)\n",
    "        return self\n",
    "\n",
    "    def predict(self, X):\n",
    "        return self.model.predict(X)\n",
    "\n",
    "    def predict_proba(self, X):\n",
    "        return self.model.predict_proba(X)\n",
    "\n",
    "    def get_params(self, deep=True):\n",
    "        return self.model.get_params(deep=deep)\n",
    "\n",
    "    def set_params(self, **params):\n",
    "        self.model.set_params(**params)\n",
    "        return self\n"
   ]
  },
  {
   "cell_type": "code",
   "execution_count": 14,
   "metadata": {},
   "outputs": [],
   "source": [
    "# Separate features and target (Churn)\n",
    "y = train_df['Churn']\n",
    "X = train_df.drop(columns=['Churn','CustomerID'])"
   ]
  },
  {
   "cell_type": "code",
   "execution_count": 15,
   "metadata": {},
   "outputs": [],
   "source": [
    "X_test = test_df.copy()\n",
    "customer_ids = X_test['CustomerID']\n",
    "X_test = X_test.drop(columns='CustomerID')\n",
    "\n",
    "numeric_feature = X.select_dtypes(include=['int64','float64']).columns.tolist()\n",
    "categorical_feature = X.drop(columns=numeric_feature).columns.tolist()\n"
   ]
  },
  {
   "cell_type": "code",
   "execution_count": 16,
   "metadata": {},
   "outputs": [],
   "source": [
    "# preprocessing for numeric and categorical \n",
    "numeric_transformer = Pipeline(\n",
    "    steps=[('scaler', StandardScaler())])\n",
    "        \n",
    "categorical_transformer = Pipeline(steps=[\n",
    "    ('onehot', OneHotEncoder(handle_unknown='ignore'))\n",
    "]) \n",
    "\n",
    "'''categorical_transformer = Pipeline(steps=[\n",
    "    ('ordinal', OrdinalEncoder())\n",
    "])'''\n",
    "           \n",
    "# Both preprocessing for numerical data and categorical data \n",
    "preprocessor = ColumnTransformer(\n",
    "    transformers=[\n",
    "        ('num', numeric_transformer, numeric_feature),\n",
    "        ('cat', categorical_transformer, categorical_feature)\n",
    "    ]\n",
    ") \n"
   ]
  },
  {
   "cell_type": "code",
   "execution_count": 17,
   "metadata": {},
   "outputs": [],
   "source": [
    "# create a full  Pipeline with *XGBoost*\n",
    "\n",
    "xgb_wrapper = XGBooWithEarlyStopping(early_stopping_rounds=5, random_state=42, n_jobs=-1, eval_metric='logloss')\n",
    "\n",
    "xgb_wrapper.preprocessor = preprocessor\n",
    "\n",
    "pipeline = Pipeline([\n",
    "    ('preprocessor', preprocessor),\n",
    "    ('classifier', xgb_wrapper)\n",
    "])\n"
   ]
  },
  {
   "cell_type": "code",
   "execution_count": 18,
   "metadata": {},
   "outputs": [
    {
     "data": {
      "text/plain": [
       "Pipeline(memory=None,\n",
       "         steps=[('preprocessor',\n",
       "                 ColumnTransformer(n_jobs=None, remainder='drop',\n",
       "                                   sparse_threshold=0.3,\n",
       "                                   transformer_weights=None,\n",
       "                                   transformers=[('num',\n",
       "                                                  Pipeline(memory=None,\n",
       "                                                           steps=[('scaler',\n",
       "                                                                   StandardScaler(copy=True,\n",
       "                                                                                  with_mean=True,\n",
       "                                                                                  with_std=True))],\n",
       "                                                           verbose=False),\n",
       "                                                  ['AccountAge',\n",
       "                                                   'MonthlyCharges',\n",
       "                                                   'TotalCharges',\n",
       "                                                   'ViewingHoursPerWeek',\n",
       "                                                   'AverageViewin...\n",
       "                                                                                 dtype=<class 'numpy.float64'>,\n",
       "                                                                                 handle_unknown='ignore',\n",
       "                                                                                 sparse=True))],\n",
       "                                                           verbose=False),\n",
       "                                                  ['SubscriptionType',\n",
       "                                                   'PaymentMethod',\n",
       "                                                   'PaperlessBilling',\n",
       "                                                   'ContentType',\n",
       "                                                   'MultiDeviceAccess',\n",
       "                                                   'DeviceRegistered',\n",
       "                                                   'GenrePreference', 'Gender',\n",
       "                                                   'ParentalControl',\n",
       "                                                   'SubtitlesEnabled'])],\n",
       "                                   verbose=False)),\n",
       "                ('classifier',\n",
       "                 <__main__.XGBooWithEarlyStopping object at 0x7e572d39d490>)],\n",
       "         verbose=False)"
      ]
     },
     "execution_count": 18,
     "metadata": {},
     "output_type": "execute_result"
    }
   ],
   "source": [
    "# Training the model\n",
    "# split for validation\n",
    "X_train, X_val, y_train, y_val = train_test_split(X, y, test_size=0.2, stratify=y, random_state=42)\n",
    "\n",
    "pipeline.fit(\n",
    "    X_train,\n",
    "    y_train,\n",
    "    classifier__eval_set=[(X_val, y_val)],\n",
    " )\n"
   ]
  },
  {
   "cell_type": "code",
   "execution_count": 45,
   "metadata": {},
   "outputs": [
    {
     "data": {
      "text/plain": [
       "'\\'\\'print(\"Train columns:\", X_train.columns)\\nprint(\"Test columns:\", X_test.columns)\\nprint(\"Missing columns in test:\", set(X_train.columns) - set(X_test.columns))\\n'"
      ]
     },
     "execution_count": 45,
     "metadata": {},
     "output_type": "execute_result"
    }
   ],
   "source": [
    "'''''print(\"Train columns:\", X_train.columns)\n",
    "print(\"Test columns:\", X_test.columns)\n",
    "print(\"Missing columns in test:\", set(X_train.columns) - set(X_test.columns))\n",
    "'''"
   ]
  },
  {
   "cell_type": "code",
   "execution_count": 19,
   "metadata": {},
   "outputs": [
    {
     "name": "stdout",
     "output_type": "stream",
     "text": [
      "   CustomerID  predicted_probability\n",
      "0  O1W6BHP6RM               0.129620\n",
      "1  LFR4X92X8H               0.059412\n",
      "2  QM5GBIYODA               0.405024\n",
      "3  D9RXTK2K9F               0.065545\n",
      "4  ENTCCHR1LR               0.165822\n"
     ]
    }
   ],
   "source": [
    "# predict on test set, predict probabilities \n",
    "y_pred_proba = pipeline.predict_proba(X_test)[:, 1]\n",
    "\n",
    "# create a dataFrame for submission\n",
    "prediction_df = pd.DataFrame({\n",
    "    'CustomerID' : customer_ids,\n",
    "    'predicted_probability' : y_pred_proba\n",
    "})\n",
    "\n",
    "print(prediction_df.head())"
   ]
  },
  {
   "cell_type": "code",
   "execution_count": 20,
   "metadata": {},
   "outputs": [],
   "source": [
    "# Do validation check \n",
    "assert prediction_df.shape[0] == 104480, \"Row count mismatch — expected 104,480\"\n",
    "assert list(prediction_df.columns) == ['CustomerID', 'predicted_probability'], \"Column names must match exactly\"\n",
    "\n"
   ]
  },
  {
   "cell_type": "markdown",
   "metadata": {},
   "source": [
    "## Final Tests - **IMPORTANT** - the cells below must be run prior to submission\n",
    "\n",
    "Below are some tests to ensure your submission is in the correct format for autograding. The autograding process accepts a csv `prediction_submission.csv` which we will generate from our `prediction_df` below. Please run the tests below an ensure no assertion errors are thrown."
   ]
  },
  {
   "cell_type": "code",
   "execution_count": 21,
   "metadata": {},
   "outputs": [],
   "source": [
    "# FINAL TEST CELLS - please make sure all of your code is above these test cells\n",
    "\n",
    "# Writing to csv for autograding purposes\n",
    "prediction_df.to_csv(\"prediction_submission.csv\", index=False)\n",
    "submission = pd.read_csv(\"prediction_submission.csv\")\n",
    "\n",
    "assert isinstance(submission, pd.DataFrame), 'You should have a dataframe named prediction_df.'"
   ]
  },
  {
   "cell_type": "code",
   "execution_count": 22,
   "metadata": {},
   "outputs": [],
   "source": [
    "# FINAL TEST CELLS - please make sure all of your code is above these test cells\n",
    "\n",
    "assert submission.columns[0] == 'CustomerID', 'The first column name should be CustomerID.'\n",
    "assert submission.columns[1] == 'predicted_probability', 'The second column name should be predicted_probability.'"
   ]
  },
  {
   "cell_type": "code",
   "execution_count": 23,
   "metadata": {},
   "outputs": [],
   "source": [
    "# FINAL TEST CELLS - please make sure all of your code is above these test cells\n",
    "\n",
    "assert submission.shape[0] == 104480, 'The dataframe prediction_df should have 104480 rows.'"
   ]
  },
  {
   "cell_type": "code",
   "execution_count": 24,
   "metadata": {},
   "outputs": [],
   "source": [
    "# FINAL TEST CELLS - please make sure all of your code is above these test cells\n",
    "\n",
    "assert submission.shape[1] == 2, 'The dataframe prediction_df should have 2 columns.'"
   ]
  },
  {
   "cell_type": "code",
   "execution_count": 25,
   "metadata": {},
   "outputs": [],
   "source": [
    "# FINAL TEST CELLS - please make sure all of your code is above these test cells\n",
    "\n",
    "## This cell calculates the auc score and is hidden. Submit Assignment to see AUC score."
   ]
  },
  {
   "cell_type": "markdown",
   "metadata": {},
   "source": [
    "## SUBMIT YOUR WORK!\n",
    "\n",
    "Once we are happy with our `prediction_df` and `prediction_submission.csv` we can now submit for autograding! Submit by using the blue **Submit Assignment** at the top of your notebook. Don't worry if your initial submission isn't perfect as you have multiple submission attempts and will obtain some feedback after each submission!"
   ]
  }
 ],
 "metadata": {
  "kernelspec": {
   "display_name": "Python 3",
   "language": "python",
   "name": "python3"
  },
  "language_info": {
   "codemirror_mode": {
    "name": "ipython",
    "version": 3
   },
   "file_extension": ".py",
   "mimetype": "text/x-python",
   "name": "python",
   "nbconvert_exporter": "python",
   "pygments_lexer": "ipython3",
   "version": "3.7.6"
  }
 },
 "nbformat": 4,
 "nbformat_minor": 4
}
